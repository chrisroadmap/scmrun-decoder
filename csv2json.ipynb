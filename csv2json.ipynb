{
 "cells": [
  {
   "cell_type": "markdown",
   "id": "a951baa9-4e68-4dd3-b042-93040e47b802",
   "metadata": {},
   "source": [
    "# Convert a species_properties file to json\n",
    "\n",
    "TODO: add to fair-calibrate\n",
    "\n",
    "This is so we can bang it into openscm-runner and recycle the default parameters for fair as a set of flat configs\n",
    "\n",
    "We need a 1D flat config set as we will create N copies of it in a list to combine with the configs that do vary - these will be a list that correspond to species_configs in the calibrated constrained parameters CSV\n",
    "\n",
    "we want to remove the params that do vary, otherwise we have two keys that are the same, and this is bad\n",
    "\n",
    "others: 11 params are energy balance model, co2 initial is initial conditions, seed can be calculated from config # but may be unnecessary if we only run deterministic\n",
    "\n",
    "TODO: any initial conditions that will vary by run also need to be excluded, for example if we do offline spinup runs and initialise all gas boxes in say 2019.\n",
    "\n",
    "cheers to https://medium.com/@techwithjulles/python-a-program-that-converts-a-csv-file-to-a-json-file-80c18446ac0b"
   ]
  },
  {
   "cell_type": "code",
   "execution_count": 1,
   "id": "9859a42f-2e98-47f8-b7f0-d953dbef171d",
   "metadata": {},
   "outputs": [],
   "source": [
    "import csv\n",
    "import json\n",
    "\n",
    "import numpy as np"
   ]
  },
  {
   "cell_type": "code",
   "execution_count": 2,
   "id": "a7a8066f-53d4-4378-bbda-7ad8d53489a1",
   "metadata": {},
   "outputs": [],
   "source": [
    "with open('species_configs_properties_calibration1.2.0.csv', newline='') as csvfile:\n",
    "    reader = csv.DictReader(csvfile)\n",
    "    data = [row for row in reader]"
   ]
  },
  {
   "cell_type": "code",
   "execution_count": 3,
   "id": "78d20fc0-a449-4194-b87d-a560b186e1f5",
   "metadata": {},
   "outputs": [],
   "source": [
    "non_forcing_scale_params_that_vary = (\n",
    "    'CO2|iirf_0',\n",
    "    'CO2|iirf_airborne',\n",
    "    'CO2|iirf_uptake',\n",
    "    'CO2|iirf_temperature',\n",
    "    'BC|erfari_radiative_efficiency',\n",
    "    'OC|erfari_radiative_efficiency',\n",
    "    'Sulfur|erfari_radiative_efficiency',\n",
    "    'NOx|erfari_radiative_efficiency',\n",
    "    'VOC|erfari_radiative_efficiency',\n",
    "    'NH3|erfari_radiative_efficiency',\n",
    "    'CH4|erfari_radiative_efficiency',\n",
    "    'N2O|erfari_radiative_efficiency',\n",
    "    'Equivalent effective stratospheric chlorine|erfari_radiative_efficiency',\n",
    "    'Sulfur|aci_shape',\n",
    "    'BC|aci_shape',\n",
    "    'OC|aci_shape',\n",
    "    'Aerosol-cloud interactions|aci_scale',\n",
    "    'CH4|ozone_radiative_efficiency',\n",
    "    'N2O|ozone_radiative_efficiency',\n",
    "    'Equivalent effective stratospheric chlorine|ozone_radiative_efficiency',\n",
    "    'CO|ozone_radiative_efficiency',\n",
    "    'VOC|ozone_radiative_efficiency',\n",
    "    'NOx|ozone_radiative_efficiency'\n",
    ")"
   ]
  },
  {
   "cell_type": "code",
   "execution_count": 4,
   "id": "8e7de49e-e03f-4ff3-b935-19229c1a98bf",
   "metadata": {},
   "outputs": [],
   "source": [
    "out_data = {}\n",
    "\n",
    "for item in data:\n",
    "    for subitem in item:\n",
    "        if subitem == 'forcing_scale':  # this is always overridden\n",
    "            continue  \n",
    "        value = item[subitem]\n",
    "        try:\n",
    "            value=int(value)\n",
    "        except ValueError:\n",
    "            try:\n",
    "                value=float(value)\n",
    "                if np.isnan(value):  # nan will be default, so don't carry 'em round\n",
    "                    continue\n",
    "            except ValueError:\n",
    "                pass\n",
    "        if f'{item[\"name\"]}|{subitem}' in non_forcing_scale_params_that_vary:  # don't include in defaults if it's something we vary\n",
    "            continue\n",
    "            \n",
    "        out_data[f'{item[\"name\"]}|{subitem}'] = value"
   ]
  },
  {
   "cell_type": "code",
   "execution_count": 5,
   "id": "6e33bb1e-ffe3-4808-abf3-d226fb3b9204",
   "metadata": {},
   "outputs": [],
   "source": [
    "with open('default_configs_slim.json', 'w') as jsonfile:\n",
    "    json.dump(out_data, jsonfile)"
   ]
  },
  {
   "cell_type": "code",
   "execution_count": null,
   "id": "80c0a208-3cf2-4a88-8365-599d58351844",
   "metadata": {},
   "outputs": [],
   "source": []
  }
 ],
 "metadata": {
  "kernelspec": {
   "display_name": "Python 3 (ipykernel)",
   "language": "python",
   "name": "python3"
  },
  "language_info": {
   "codemirror_mode": {
    "name": "ipython",
    "version": 3
   },
   "file_extension": ".py",
   "mimetype": "text/x-python",
   "name": "python",
   "nbconvert_exporter": "python",
   "pygments_lexer": "ipython3",
   "version": "3.11.0"
  }
 },
 "nbformat": 4,
 "nbformat_minor": 5
}
