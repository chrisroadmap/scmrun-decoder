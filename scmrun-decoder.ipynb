{
 "cells": [
  {
   "cell_type": "markdown",
   "id": "0",
   "metadata": {},
   "source": [
    "# scmrun-decoder\n",
    "\n",
    "Intention: to take scmrun emissions file and convert it into an xarray emissions file suitable for running fair.\n",
    "\n",
    "This interface will be built into the fair adapter in openscm-runner\n",
    "\n",
    "Question: will the species names always follow what is in RCMIP? I think so, because the \"infilled\" variable names are transformed as in https://github.com/iiasa/climate-assessment/blob/main/src/climate_assessment/climate/wg3.py in climate-assessment"
   ]
  },
  {
   "cell_type": "code",
   "execution_count": null,
   "id": "1",
   "metadata": {},
   "outputs": [],
   "source": [
    "from scmdata import ScmRun\n",
    "import numpy as np\n",
    "import pandas as pd\n",
    "import pooch\n",
    "import datetime as dt\n",
    "import xarray as xr"
   ]
  },
  {
   "cell_type": "code",
   "execution_count": null,
   "id": "2",
   "metadata": {},
   "outputs": [],
   "source": [
    "rcmip_emissions = pooch.retrieve(\n",
    "    url = \"https://zenodo.org/records/4589756/files/rcmip-emissions-annual-means-v5-1-0.csv\",\n",
    "    known_hash = \"md5:4044106f55ca65b094670e7577eaf9b3\"\n",
    ")"
   ]
  },
  {
   "cell_type": "code",
   "execution_count": null,
   "id": "3",
   "metadata": {},
   "outputs": [],
   "source": [
    "scmrun = ScmRun(rcmip_emissions, lowercase_cols=True)"
   ]
  },
  {
   "cell_type": "code",
   "execution_count": null,
   "id": "4",
   "metadata": {},
   "outputs": [],
   "source": [
    "scmrun.timeseries()"
   ]
  },
  {
   "cell_type": "code",
   "execution_count": null,
   "id": "5",
   "metadata": {},
   "outputs": [],
   "source": [
    "# isolate only ssp scenarios; tier 1 will do for demonstration\n",
    "scenarios = ('ssp119', 'ssp126', 'ssp245', 'ssp370', 'ssp585')"
   ]
  },
  {
   "cell_type": "code",
   "execution_count": null,
   "id": "6",
   "metadata": {},
   "outputs": [],
   "source": [
    "variables = (\n",
    "    'Emissions|BC',\n",
    "    'Emissions|CH4',\n",
    "    'Emissions|CO',\n",
    "    'Emissions|CO2|MAGICC AFOLU',\n",
    "    'Emissions|CO2|MAGICC Fossil and Industrial',\n",
    "    'Emissions|F-Gases|HFC|HFC125',\n",
    "    'Emissions|F-Gases|HFC|HFC134a',\n",
    "    'Emissions|F-Gases|HFC|HFC143a',\n",
    "    'Emissions|F-Gases|HFC|HFC152a',\n",
    "    'Emissions|F-Gases|HFC|HFC227ea',\n",
    "    'Emissions|F-Gases|HFC|HFC23',\n",
    "    'Emissions|F-Gases|HFC|HFC236fa',\n",
    "    'Emissions|F-Gases|HFC|HFC245fa',\n",
    "    'Emissions|F-Gases|HFC|HFC32',\n",
    "    'Emissions|F-Gases|HFC|HFC365mfc',\n",
    "    'Emissions|F-Gases|HFC|HFC4310mee',\n",
    "    'Emissions|F-Gases|NF3',\n",
    "    'Emissions|F-Gases|PFC|C2F6',\n",
    "    'Emissions|F-Gases|PFC|C3F8',\n",
    "    'Emissions|F-Gases|PFC|C4F10',\n",
    "    'Emissions|F-Gases|PFC|C5F12',\n",
    "    'Emissions|F-Gases|PFC|C6F14',\n",
    "    'Emissions|F-Gases|PFC|C7F16',\n",
    "    'Emissions|F-Gases|PFC|C8F18',\n",
    "    'Emissions|F-Gases|PFC|CF4',\n",
    "    'Emissions|F-Gases|PFC|cC4F8',\n",
    "    'Emissions|F-Gases|SF6',\n",
    "    'Emissions|F-Gases|SO2F2',\n",
    "    'Emissions|Montreal Gases|CCl4',\n",
    "    'Emissions|Montreal Gases|CFC|CFC11',\n",
    "    'Emissions|Montreal Gases|CFC|CFC113',\n",
    "    'Emissions|Montreal Gases|CFC|CFC114',\n",
    "    'Emissions|Montreal Gases|CFC|CFC115',\n",
    "    'Emissions|Montreal Gases|CFC|CFC12',\n",
    "    'Emissions|Montreal Gases|CH2Cl2',\n",
    "    'Emissions|Montreal Gases|CH3Br',\n",
    "    'Emissions|Montreal Gases|CH3CCl3',\n",
    "    'Emissions|Montreal Gases|CH3Cl',\n",
    "    'Emissions|Montreal Gases|CHCl3',\n",
    "    'Emissions|Montreal Gases|HCFC141b',\n",
    "    'Emissions|Montreal Gases|HCFC142b',\n",
    "    'Emissions|Montreal Gases|HCFC22',\n",
    "    'Emissions|Montreal Gases|Halon1202',\n",
    "    'Emissions|Montreal Gases|Halon1211',\n",
    "    'Emissions|Montreal Gases|Halon1301',\n",
    "    'Emissions|Montreal Gases|Halon2402',\n",
    "    'Emissions|N2O',\n",
    "    'Emissions|NH3',\n",
    "    'Emissions|NOx',\n",
    "    'Emissions|OC',\n",
    "    'Emissions|Sulfur',\n",
    "    'Emissions|VOC',\n",
    ")"
   ]
  },
  {
   "cell_type": "code",
   "execution_count": null,
   "id": "7",
   "metadata": {},
   "outputs": [],
   "source": [
    "scmrun = scmrun.filter(scenario=scenarios, variable=variables, region='World')"
   ]
  },
  {
   "cell_type": "code",
   "execution_count": null,
   "id": "8",
   "metadata": {},
   "outputs": [],
   "source": [
    "# # this is the input that openscm-runner wants\n",
    "#     replacements_variables = {\n",
    "#         r\".*\\|Infilled\\|\": \"\",\n",
    "#         \"AFOLU\": \"MAGICC AFOLU\",\n",
    "#         \"Energy and Industrial Processes\": \"MAGICC Fossil and Industrial\",\n",
    "#         \"HFC43-10\": \"HFC4310mee\",\n",
    "#         # \"Sulfur\": \"SOx\",\n",
    "#         # \"VOC\": \"NMVOC\",\n",
    "#         r\"HFC\\|\": \"\",\n",
    "#         r\"PFC\\|\": \"\",\n",
    "#         \"HFC245ca\": \"HFC245fa\",  # still needed?\n",
    "#     }"
   ]
  },
  {
   "cell_type": "code",
   "execution_count": null,
   "id": "9",
   "metadata": {},
   "outputs": [],
   "source": [
    "(scmrun.time_points.years()[0])"
   ]
  },
  {
   "cell_type": "code",
   "execution_count": null,
   "id": "10",
   "metadata": {},
   "outputs": [],
   "source": [
    "for variable in scmrun.get_unique_meta(\"variable\"):\n",
    "    in_unit = scmrun.filter(variable=variable).get_unique_meta(\n",
    "        \"unit\", no_duplicates=True\n",
    "    )\n",
    "    print(in_unit)"
   ]
  },
  {
   "cell_type": "code",
   "execution_count": null,
   "id": "11",
   "metadata": {},
   "outputs": [],
   "source": [
    "in_unit = scmrun.filter(variable='Emissions|CO2|MAGICC Fossil and Industrial').get_unique_meta(\n",
    "    \"unit\", no_duplicates=True\n",
    ")\n",
    "print(in_unit)\n",
    "\n",
    "scmrun.convert_unit('Gt CO2/yr', variable='Emissions|CO2|MAGICC Fossil and Industrial').filter(variable='Emissions|CO2|MAGICC Fossil and Industrial').timeseries()"
   ]
  },
  {
   "cell_type": "code",
   "execution_count": null,
   "id": "12",
   "metadata": {},
   "outputs": [],
   "source": [
    "EMISSIONS_SPECIES_UNITS_CONTEXT = dict(\n",
    "    (\n",
    "        (\"|CO2|MAGICC Fossil and Industrial\", \"GtCO2 / yr\"),\n",
    "        (\"|CO2|MAGICC AFOLU\", \"GtCO2 / yr\"),\n",
    "        (\"|CH4\", \"MtCH4 / yr\"),\n",
    "        (\"|N2O\", \"MtN2O / yr\"),\n",
    "        (\"|Sulfur\", \"MtSO2 / yr\"),\n",
    "        (\"|CO\", \"MtCO / yr\"),\n",
    "        (\"|VOC\", \"MtNMVOC / yr\"),\n",
    "        (\"|NOx\", \"MtNOx / yr\"),\n",
    "        (\"|BC\", \"MtBC / yr\"),\n",
    "        (\"|OC\", \"MtOC / yr\"),\n",
    "        (\"|NH3\", \"MtNH3 / yr\"),\n",
    "        (\"|CF4\", \"ktCF4 / yr\"),\n",
    "        (\"|C2F6\", \"ktC2F6 / yr\"),\n",
    "        (\"|C3F8\", \"ktC3F8 / yr\"),\n",
    "        (\"|C4F10\", \"ktC4F10 / yr\"),\n",
    "        (\"|C5F12\", \"ktC5F12 / yr\"),\n",
    "        (\"|C6F14\", \"ktC6F14 / yr\"),\n",
    "        (\"|C7F16\", \"ktC7F16 / yr\"),\n",
    "        (\"|C8F18\", \"ktC8F18 / yr\"),\n",
    "        (\"|cC4F8\", \"ktcC4F8 / yr\"),\n",
    "        (\"|HFC23\", \"ktHFC23 / yr\"),\n",
    "        (\"|HFC32\", \"ktHFC32 / yr\"),\n",
    "        (\"|HFC4310mee\", \"ktHFC4310mee / yr\"),\n",
    "        (\"|HFC125\", \"ktHFC125 / yr\"),\n",
    "        (\"|HFC134a\", \"ktHFC134a / yr\"),\n",
    "        (\"|HFC143a\", \"ktHFC143a / yr\"),\n",
    "        (\"|HFC152a\", \"ktHFC152a / yr\"),\n",
    "        (\"|HFC227ea\", \"ktHFC227ea / yr\"),\n",
    "        (\"|HFC236fa\", \"ktHFC236fa / yr\"),\n",
    "        (\"|HFC245fa\", \"ktHFC245fa / yr\"),\n",
    "        (\"|HFC365mfc\", \"ktHFC365mfc / yr\"),\n",
    "        (\"|SF6\", \"ktSF6 / yr\"),\n",
    "        (\"|NF3\", \"ktNF3 / yr\"),\n",
    "        (\"|SO2F2\", \"ktSO2F2 / yr\"),\n",
    "        (\"|CFC11\", \"ktCFC11 / yr\"),\n",
    "        (\"|CFC12\", \"ktCFC12 / yr\"),\n",
    "        (\"|CFC113\", \"ktCFC113 / yr\"),\n",
    "        (\"|CFC114\", \"ktCFC114 / yr\"),\n",
    "        (\"|CFC115\", \"ktCFC115 / yr\"),\n",
    "        (\"|CCl4\", \"ktCCl4 / yr\"),\n",
    "        (\"|CH3CCl3\", \"ktCH3CCl3 / yr\"),\n",
    "        (\"|HCFC22\", \"ktHCFC22 / yr\"),\n",
    "        (\"|HCFC141b\", \"ktHCFC141b / yr\"),\n",
    "        (\"|HCFC142b\", \"ktHCFC142b / yr\"),\n",
    "        (\"|Halon1211\", \"ktHalon1211 / yr\"),\n",
    "        (\"|Halon1202\", \"ktHalon1202 / yr\"),\n",
    "        (\"|Halon1301\", \"ktHalon1301 / yr\"),\n",
    "        (\"|Halon2402\", \"ktHalon2402 / yr\"),\n",
    "        (\"|CH3Br\", \"ktCH3Br / yr\"),\n",
    "        (\"|CH3Cl\", \"ktCH3Cl / yr\"),\n",
    "        (\"|CH2Cl2\", \"ktCH2Cl2 / yr\"),\n",
    "        (\"|CHCl3\", \"ktCHCl3 / yr\"),\n",
    "    )\n",
    ")"
   ]
  },
  {
   "cell_type": "code",
   "execution_count": null,
   "id": "13",
   "metadata": {},
   "outputs": [],
   "source": [
    "EMISSIONS_SPECIES_UNITS_CONTEXT"
   ]
  },
  {
   "cell_type": "code",
   "execution_count": null,
   "id": "14",
   "metadata": {},
   "outputs": [],
   "source": [
    "for variable in scmrun.get_unique_meta(\"variable\"):\n",
    "    in_unit = scmrun.filter(variable=variable).get_unique_meta(\n",
    "        \"unit\", no_duplicates=True\n",
    "    )\n",
    "    if variable.endswith(('|CO2|MAGICC Fossil and Industrial', '|CO2|MAGICC AFOLU')):\n",
    "        prepend = '|CO2|'\n",
    "    else:\n",
    "        prepend = '|'\n",
    "    try:\n",
    "        fair_unit = EMISSIONS_SPECIES_UNITS_CONTEXT[prepend + variable.split('|')[-1]]\n",
    "    except AssertionError:\n",
    "        raise\n",
    "    \n",
    "    scmrun = scmrun.convert_unit(fair_unit, variable=variable)"
   ]
  },
  {
   "cell_type": "code",
   "execution_count": null,
   "id": "15",
   "metadata": {},
   "outputs": [],
   "source": [
    "scmrun.filter(variable='Emissions|NOx').timeseries()"
   ]
  },
  {
   "cell_type": "code",
   "execution_count": null,
   "id": "16",
   "metadata": {},
   "outputs": [],
   "source": [
    "scmrun.filter(variable='Emissions|CO2|MAGICC Fossil and Industrial').timeseries()"
   ]
  },
  {
   "cell_type": "code",
   "execution_count": null,
   "id": "17",
   "metadata": {},
   "outputs": [],
   "source": [
    "scmrun.meta[[\"model\", \"scenario\"]].drop_duplicates().shape[0]"
   ]
  },
  {
   "cell_type": "code",
   "execution_count": null,
   "id": "18",
   "metadata": {},
   "outputs": [],
   "source": [
    "mod___scen = [f'{model}____{scenario}' for model, scenario in scmrun.meta[[\"model\", \"scenario\"]].drop_duplicates().values]\n",
    "mod___scen"
   ]
  },
  {
   "cell_type": "code",
   "execution_count": null,
   "id": "19",
   "metadata": {},
   "outputs": [],
   "source": [
    "[var[1:] for var in EMISSIONS_SPECIES_UNITS_CONTEXT.keys()]"
   ]
  },
  {
   "cell_type": "code",
   "execution_count": null,
   "id": "20",
   "metadata": {},
   "outputs": [],
   "source": [
    "variables"
   ]
  },
  {
   "cell_type": "code",
   "execution_count": null,
   "id": "21",
   "metadata": {},
   "outputs": [],
   "source": [
    "scmrun = scmrun.interpolate(\n",
    "    [dt.datetime(y, 1, 1) for y in range(1750, 2501)]\n",
    ")"
   ]
  },
  {
   "cell_type": "code",
   "execution_count": null,
   "id": "22",
   "metadata": {},
   "outputs": [],
   "source": [
    "for model, scenario in scmrun.meta[[\"model\", \"scenario\"]].drop_duplicates().values:\n",
    "    for variable in variables:\n",
    "        print(scmrun.filter(model=model, scenario=scenario, variable=variable).values)"
   ]
  },
  {
   "cell_type": "code",
   "execution_count": null,
   "id": "23",
   "metadata": {},
   "outputs": [],
   "source": [
    "n_species = len(EMISSIONS_SPECIES_UNITS_CONTEXT)\n",
    "years_in = scmrun.time_points.years()\n",
    "timepoints = np.arange(years_in[0] + 0.5, years_in[-1] + 1)\n",
    "n_timepoints = len(timepoints)\n",
    "n_scenarios = scmrun.meta[[\"model\", \"scenario\"]].drop_duplicates().values.shape[0]"
   ]
  },
  {
   "cell_type": "code",
   "execution_count": null,
   "id": "24",
   "metadata": {},
   "outputs": [],
   "source": [
    "# now make the emissions array\n",
    "scenarios = []\n",
    "species = []\n",
    "data_out = np.ones((n_timepoints, n_scenarios, 1, n_species)) * np.nan\n",
    "for i_scenario, (model, scenario) in enumerate(scmrun.meta[[\"model\", \"scenario\"]].drop_duplicates().values):\n",
    "    scenarios.append(f'{model}____{scenario}')\n",
    "    for i_variable, variable in enumerate(variables):\n",
    "        data_out[:, i_scenario, 0, i_variable] = scmrun.filter(model=model, scenario=scenario, variable=variable).values\n",
    "        if i_scenario==0:\n",
    "            species.append(variable)"
   ]
  },
  {
   "cell_type": "code",
   "execution_count": null,
   "id": "25",
   "metadata": {},
   "outputs": [],
   "source": [
    "emissions_da = xr.DataArray(\n",
    "    data=data_out,\n",
    "    dims=[\"timepoints\", \"scenario\", \"config\", \"specie\"],\n",
    "    coords=dict(\n",
    "        timepoints=timepoints,\n",
    "        scenario=scenarios,\n",
    "        config=[\"generic\"],\n",
    "        specie=species,\n",
    "    ),\n",
    ")"
   ]
  },
  {
   "cell_type": "code",
   "execution_count": null,
   "id": "26",
   "metadata": {},
   "outputs": [],
   "source": [
    "emissions_da"
   ]
  },
  {
   "cell_type": "code",
   "execution_count": null,
   "id": "27",
   "metadata": {},
   "outputs": [],
   "source": [
    "emissions_da[265, 0, 0, :]"
   ]
  },
  {
   "cell_type": "code",
   "execution_count": null,
   "id": "28",
   "metadata": {},
   "outputs": [],
   "source": []
  }
 ],
 "metadata": {
  "kernelspec": {
   "display_name": "Python 3 (ipykernel)",
   "language": "python",
   "name": "python3"
  },
  "language_info": {
   "codemirror_mode": {
    "name": "ipython",
    "version": 3
   },
   "file_extension": ".py",
   "mimetype": "text/x-python",
   "name": "python",
   "nbconvert_exporter": "python",
   "pygments_lexer": "ipython3",
   "version": "3.11.0"
  }
 },
 "nbformat": 4,
 "nbformat_minor": 5
}
